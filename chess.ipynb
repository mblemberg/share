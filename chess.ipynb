{
 "cells": [
  {
   "cell_type": "markdown",
   "metadata": {},
   "source": [
    "# Proving Ginge Wrong About Chess"
   ]
  },
  {
   "cell_type": "code",
   "execution_count": 1,
   "metadata": {},
   "outputs": [],
   "source": [
    "import pandas as pd\n",
    "import chess.pgn\n",
    "import numpy as np"
   ]
  },
  {
   "cell_type": "code",
   "execution_count": 17,
   "metadata": {},
   "outputs": [],
   "source": [
    "N_GAMES = 1_000_000\n",
    "MAX_ELO_DELTA = 100"
   ]
  },
  {
   "cell_type": "code",
   "execution_count": 2,
   "metadata": {},
   "outputs": [],
   "source": [
    "pgn_file = 'lichess_db_standard_rated_2014-07.pgn'\n",
    "pgn = open(pgn_file)\n",
    "\n",
    "white_elo = np.empty(shape=(N_GAMES), dtype=float)\n",
    "black_elo = np.empty(shape=(N_GAMES), dtype=float)\n",
    "white_points = np.empty(shape=(N_GAMES), dtype=float)\n",
    "black_points = np.empty(shape=(N_GAMES), dtype=float)\n",
    "\n",
    "\n",
    "for i in range(N_GAMES):\n",
    "    \n",
    "    try:\n",
    "        game = chess.pgn.read_game(pgn)\n",
    "\n",
    "        white_elo[i] = game.headers['WhiteElo'].replace('?', '')\n",
    "        black_elo[i] = game.headers['BlackElo'].replace('?', '')\n",
    "\n",
    "        if game.headers['Result'] == '1-0':\n",
    "            white_points[i] = 1.0\n",
    "        elif game.headers['Result'] == '0-1':\n",
    "            white_points[i] = 0.0\n",
    "        elif game.headers['Result'] == '1/2-1/2':\n",
    "            white_points[i] = 0.5\n",
    "        else:\n",
    "            raise RuntimeError(f'Unrecognized result: {game.headers[\"Result\"]}')\n",
    "        \n",
    "        black_points[i] = 1 - white_points[i]\n",
    "\n",
    "    except Exception:\n",
    "        white_elo[i] = 0\n",
    "        black_elo[i] = 0\n",
    "        white_points[i] = 0\n",
    "        black_points[i] = 0"
   ]
  },
  {
   "cell_type": "code",
   "execution_count": 3,
   "metadata": {},
   "outputs": [],
   "source": [
    "data = pd.DataFrame(data=[white_elo, black_elo, white_points, black_points]).T\n",
    "data.columns = ['white_elo', 'black_elo', 'white_points', 'black_points']"
   ]
  },
  {
   "cell_type": "code",
   "execution_count": 4,
   "metadata": {},
   "outputs": [],
   "source": [
    "data['delta_elo'] = data['white_elo'].sub(data['black_elo']).abs()\n",
    "data.to_csv(f'{pgn_file}.df', mode='w')"
   ]
  },
  {
   "cell_type": "code",
   "execution_count": 9,
   "metadata": {},
   "outputs": [
    {
     "data": {
      "text/html": [
       "<div>\n",
       "<style scoped>\n",
       "    .dataframe tbody tr th:only-of-type {\n",
       "        vertical-align: middle;\n",
       "    }\n",
       "\n",
       "    .dataframe tbody tr th {\n",
       "        vertical-align: top;\n",
       "    }\n",
       "\n",
       "    .dataframe thead th {\n",
       "        text-align: right;\n",
       "    }\n",
       "</style>\n",
       "<table border=\"1\" class=\"dataframe\">\n",
       "  <thead>\n",
       "    <tr style=\"text-align: right;\">\n",
       "      <th></th>\n",
       "      <th>white_elo</th>\n",
       "      <th>black_elo</th>\n",
       "      <th>white_points</th>\n",
       "      <th>black_points</th>\n",
       "      <th>delta_elo</th>\n",
       "    </tr>\n",
       "  </thead>\n",
       "  <tbody>\n",
       "    <tr>\n",
       "      <th>mean</th>\n",
       "      <td>1625.276286</td>\n",
       "      <td>1624.413862</td>\n",
       "      <td>0.515843</td>\n",
       "      <td>0.484157</td>\n",
       "      <td>46.795980</td>\n",
       "    </tr>\n",
       "    <tr>\n",
       "      <th>std</th>\n",
       "      <td>202.006251</td>\n",
       "      <td>202.340182</td>\n",
       "      <td>0.489281</td>\n",
       "      <td>0.489281</td>\n",
       "      <td>28.399201</td>\n",
       "    </tr>\n",
       "    <tr>\n",
       "      <th>count</th>\n",
       "      <td>454789.000000</td>\n",
       "      <td>454789.000000</td>\n",
       "      <td>454789.000000</td>\n",
       "      <td>454789.000000</td>\n",
       "      <td>454789.000000</td>\n",
       "    </tr>\n",
       "  </tbody>\n",
       "</table>\n",
       "</div>"
      ],
      "text/plain": [
       "           white_elo      black_elo   white_points   black_points  \\\n",
       "mean     1625.276286    1624.413862       0.515843       0.484157   \n",
       "std       202.006251     202.340182       0.489281       0.489281   \n",
       "count  454789.000000  454789.000000  454789.000000  454789.000000   \n",
       "\n",
       "           delta_elo  \n",
       "mean       46.795980  \n",
       "std        28.399201  \n",
       "count  454789.000000  "
      ]
     },
     "execution_count": 9,
     "metadata": {},
     "output_type": "execute_result"
    }
   ],
   "source": [
    "data[(data['delta_elo'] < MAX_ELO_DELTA) & (data['white_elo'] != 0)].agg(['mean', 'std', 'count'])"
   ]
  },
  {
   "cell_type": "code",
   "execution_count": 18,
   "metadata": {},
   "outputs": [
    {
     "data": {
      "image/png": "[encoded data removed]",
      "text/plain": [
       "<Figure size 640x480 with 1 Axes>"
      ]
     },
     "metadata": {},
     "output_type": "display_data"
    }
   ],
   "source": [
    "hist = data[(data['delta_elo'] < MAX_ELO_DELTA) & (data['white_elo'] != 0)]['white_points'].hist()"
   ]
  },
  {
   "cell_type": "code",
   "execution_count": 20,
   "metadata": {},
   "outputs": [],
   "source": [
    "white_wins = data[(data['delta_elo']<100) & (data['white_elo'] != 0) & (data['white_points'] == 1)].count()[0]\n",
    "draws = data[(data['delta_elo']<100) & (data['white_elo'] != 0) & (data['white_points'] == 0.5)].count()[0]\n",
    "black_wins = data[(data['delta_elo']<100) & (data['white_elo'] != 0) & (data['black_points'] == 1)].count()[0]\n",
    "total = white_wins + draws + black_wins"
   ]
  },
  {
   "cell_type": "code",
   "execution_count": 27,
   "metadata": {},
   "outputs": [
    {
     "name": "stdout",
     "output_type": "stream",
     "text": [
      "\n",
      "    Out of 1,000,000 games played on lichess.org, 85,364 games were played between players with an Elo within 100 points.\n",
      "    \n",
      "    White won 42,880 of those games.\n",
      "    Black won 38,030 of those games.\n",
      "    And 4,454 of those games were drawn.\n",
      "\n",
      "    White had an apparent advantage of 1.128 to 1.\n",
      "    \n"
     ]
    }
   ],
   "source": [
    "print(\n",
    "    f'''\n",
    "    Out of {N_GAMES:,} games played on lichess.org, {total:,} games were played between players with an Elo within {MAX_ELO_DELTA} points.\n",
    "    \n",
    "    White won {white_wins:,} of those games.\n",
    "    Black won {black_wins:,} of those games.\n",
    "    And {draws:,} of those games were drawn.\n",
    "\n",
    "    White had an apparent advantage of {white_wins/black_wins:.3f} to 1.\n",
    "    '''\n",
    ")"
   ]
  },
  {
   "cell_type": "code",
   "execution_count": 26,
   "metadata": {},
   "outputs": [
    {
     "name": "stdout",
     "output_type": "stream",
     "text": [
      "\n",
      "    Out of 1,000,000 games played on lichess.org, 85,364 games were played between players with an Elo within 100 points and a rating above 1800.\n",
      "    \n",
      "    White won 42,880 of those games.\n",
      "    Black won 38,030 of those games.\n",
      "    And 4,454 of those games were drawn.\n",
      "\n",
      "    White had an apparent advantage of 1.128 to 1.\n",
      "    \n"
     ]
    }
   ],
   "source": [
    "# Repeat the above analysis for high rated players only\n",
    "MIN_RATING = 1800\n",
    "white_wins = data[(data['delta_elo']<100) & (data['white_elo'] > MIN_RATING) & (data['white_points'] == 1)].count()[0]\n",
    "draws = data[(data['delta_elo']<100) & (data['white_elo'] > MIN_RATING) & (data['white_points'] == 0.5)].count()[0]\n",
    "black_wins = data[(data['delta_elo']<100) & (data['white_elo'] > MIN_RATING) & (data['black_points'] == 1)].count()[0]\n",
    "total = white_wins + draws + black_wins\n",
    "\n",
    "print(\n",
    "    f'''\n",
    "    Out of {N_GAMES:,} games played on lichess.org, {total:,} games were played between players with an Elo within {MAX_ELO_DELTA} points and a rating above {MIN_RATING}.\n",
    "    \n",
    "    White won {white_wins:,} of those games.\n",
    "    Black won {black_wins:,} of those games.\n",
    "    And {draws:,} of those games were drawn.\n",
    "\n",
    "    White had an apparent advantage of {white_wins/black_wins:.3f} to 1.\n",
    "    '''\n",
    ")"
   ]
  }
 ],
 "metadata": {
  "kernelspec": {
   "display_name": "Python 3.10.6 ('venv': venv)",
   "language": "python",
   "name": "python3"
  },
  "language_info": {
   "codemirror_mode": {
    "name": "ipython",
    "version": 3
   },
   "file_extension": ".py",
   "mimetype": "text/x-python",
   "name": "python",
   "nbconvert_exporter": "python",
   "pygments_lexer": "ipython3",
   "version": "3.10.6"
  },
  "orig_nbformat": 4,
  "vscode": {
   "interpreter": {
    "hash": "a9d12138fde63aa010e9e6feed6c22c6d3238680bb3a78ab90eff7165357229d"
   }
  }
 },
 "nbformat": 4,
 "nbformat_minor": 2
}
